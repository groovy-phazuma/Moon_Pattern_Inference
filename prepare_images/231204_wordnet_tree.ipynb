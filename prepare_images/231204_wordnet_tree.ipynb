{
 "cells": [
  {
   "cell_type": "markdown",
   "metadata": {},
   "source": [
    "## Image-NetのラベルTree構造を把握し、統合を行う"
   ]
  },
  {
   "cell_type": "code",
   "execution_count": 2,
   "metadata": {},
   "outputs": [
    {
     "name": "stdout",
     "output_type": "stream",
     "text": [
      "Collecting nltk\n",
      "  Downloading nltk-3.8.1-py3-none-any.whl (1.5 MB)\n",
      "\u001b[2K     \u001b[90m━━━━━━━━━━━━━━━━━━━━━━━━━━━━━━━━━━━━━━━━\u001b[0m \u001b[32m1.5/1.5 MB\u001b[0m \u001b[31m61.2 MB/s\u001b[0m eta \u001b[36m0:00:00\u001b[0m\n",
      "\u001b[?25hCollecting click (from nltk)\n",
      "  Downloading click-8.1.7-py3-none-any.whl.metadata (3.0 kB)\n",
      "Requirement already satisfied: joblib in /opt/conda/lib/python3.10/site-packages (from nltk) (1.3.2)\n",
      "Collecting regex>=2021.8.3 (from nltk)\n",
      "  Downloading regex-2023.10.3-cp310-cp310-manylinux_2_17_x86_64.manylinux2014_x86_64.whl.metadata (40 kB)\n",
      "\u001b[2K     \u001b[90m━━━━━━━━━━━━━━━━━━━━━━━━━━━━━━━━━━━━━━━━\u001b[0m \u001b[32m40.9/40.9 kB\u001b[0m \u001b[31m12.0 MB/s\u001b[0m eta \u001b[36m0:00:00\u001b[0m\n",
      "\u001b[?25hRequirement already satisfied: tqdm in /opt/conda/lib/python3.10/site-packages (from nltk) (4.65.0)\n",
      "Downloading regex-2023.10.3-cp310-cp310-manylinux_2_17_x86_64.manylinux2014_x86_64.whl (773 kB)\n",
      "\u001b[2K   \u001b[90m━━━━━━━━━━━━━━━━━━━━━━━━━━━━━━━━━━━━━━━\u001b[0m \u001b[32m773.9/773.9 kB\u001b[0m \u001b[31m101.6 MB/s\u001b[0m eta \u001b[36m0:00:00\u001b[0m\n",
      "\u001b[?25hDownloading click-8.1.7-py3-none-any.whl (97 kB)\n",
      "\u001b[2K   \u001b[90m━━━━━━━━━━━━━━━━━━━━━━━━━━━━━━━━━━━━━━━━\u001b[0m \u001b[32m97.9/97.9 kB\u001b[0m \u001b[31m34.8 MB/s\u001b[0m eta \u001b[36m0:00:00\u001b[0m\n",
      "\u001b[?25hInstalling collected packages: regex, click, nltk\n",
      "Successfully installed click-8.1.7 nltk-3.8.1 regex-2023.10.3\n",
      "\u001b[33mWARNING: Running pip as the 'root' user can result in broken permissions and conflicting behaviour with the system package manager. It is recommended to use a virtual environment instead: https://pip.pypa.io/warnings/venv\u001b[0m\u001b[33m\n",
      "\u001b[0m"
     ]
    }
   ],
   "source": [
    "!pip install nltk"
   ]
  },
  {
   "cell_type": "code",
   "execution_count": 50,
   "metadata": {},
   "outputs": [
    {
     "name": "stderr",
     "output_type": "stream",
     "text": [
      "[nltk_data] Downloading package wordnet to /root/nltk_data...\n",
      "[nltk_data]   Package wordnet is already up-to-date!\n"
     ]
    },
    {
     "data": {
      "text/plain": [
       "True"
      ]
     },
     "execution_count": 50,
     "metadata": {},
     "output_type": "execute_result"
    }
   ],
   "source": [
    "import collections\n",
    "\n",
    "import numpy as np\n",
    "import pandas as pd\n",
    "import matplotlib.pyplot as plt\n",
    "import nltk\n",
    "from nltk.corpus import wordnet\n",
    "\n",
    "nltk.download(\"wordnet\")"
   ]
  },
  {
   "cell_type": "code",
   "execution_count": 16,
   "metadata": {},
   "outputs": [
    {
     "data": {
      "text/html": [
       "<div>\n",
       "<style scoped>\n",
       "    .dataframe tbody tr th:only-of-type {\n",
       "        vertical-align: middle;\n",
       "    }\n",
       "\n",
       "    .dataframe tbody tr th {\n",
       "        vertical-align: top;\n",
       "    }\n",
       "\n",
       "    .dataframe thead th {\n",
       "        text-align: right;\n",
       "    }\n",
       "</style>\n",
       "<table border=\"1\" class=\"dataframe\">\n",
       "  <thead>\n",
       "    <tr style=\"text-align: right;\">\n",
       "      <th></th>\n",
       "      <th>folder</th>\n",
       "      <th>id</th>\n",
       "      <th>folder.1</th>\n",
       "      <th>name</th>\n",
       "    </tr>\n",
       "  </thead>\n",
       "  <tbody>\n",
       "    <tr>\n",
       "      <th>0</th>\n",
       "      <td>n01440764</td>\n",
       "      <td>1</td>\n",
       "      <td>n01440764</td>\n",
       "      <td>tench, Tinca tinca</td>\n",
       "    </tr>\n",
       "    <tr>\n",
       "      <th>1</th>\n",
       "      <td>n01443537</td>\n",
       "      <td>2</td>\n",
       "      <td>n01443537</td>\n",
       "      <td>goldfish, Carassius auratus</td>\n",
       "    </tr>\n",
       "    <tr>\n",
       "      <th>2</th>\n",
       "      <td>n01484850</td>\n",
       "      <td>3</td>\n",
       "      <td>n01484850</td>\n",
       "      <td>great white shark, white shark, man-eater, man...</td>\n",
       "    </tr>\n",
       "    <tr>\n",
       "      <th>3</th>\n",
       "      <td>n01491361</td>\n",
       "      <td>4</td>\n",
       "      <td>n01491361</td>\n",
       "      <td>tiger shark, Galeocerdo cuvieri</td>\n",
       "    </tr>\n",
       "    <tr>\n",
       "      <th>4</th>\n",
       "      <td>n01494475</td>\n",
       "      <td>5</td>\n",
       "      <td>n01494475</td>\n",
       "      <td>hammerhead, hammerhead shark</td>\n",
       "    </tr>\n",
       "  </tbody>\n",
       "</table>\n",
       "</div>"
      ],
      "text/plain": [
       "      folder  id   folder.1                                               name\n",
       "0  n01440764   1  n01440764                                 tench, Tinca tinca\n",
       "1  n01443537   2  n01443537                        goldfish, Carassius auratus\n",
       "2  n01484850   3  n01484850  great white shark, white shark, man-eater, man...\n",
       "3  n01491361   4  n01491361                    tiger shark, Galeocerdo cuvieri\n",
       "4  n01494475   5  n01494475                       hammerhead, hammerhead shark"
      ]
     },
     "execution_count": 16,
     "metadata": {},
     "output_type": "execute_result"
    }
   ],
   "source": [
    "df = pd.read_csv(\"/workspace/Moon_Pattern_Inference/data/ImageNet-S_label.csv\")\n",
    "lst_names=df[\"folder\"].tolist()\n",
    "df.head()"
   ]
  },
  {
   "cell_type": "code",
   "execution_count": 36,
   "metadata": {},
   "outputs": [
    {
     "data": {
      "text/plain": [
       "[[Synset('entity.n.01'),\n",
       "  Synset('physical_entity.n.01'),\n",
       "  Synset('object.n.01'),\n",
       "  Synset('whole.n.02'),\n",
       "  Synset('living_thing.n.01'),\n",
       "  Synset('organism.n.01'),\n",
       "  Synset('animal.n.01'),\n",
       "  Synset('chordate.n.01'),\n",
       "  Synset('vertebrate.n.01'),\n",
       "  Synset('aquatic_vertebrate.n.01'),\n",
       "  Synset('fish.n.01'),\n",
       "  Synset('cartilaginous_fish.n.01'),\n",
       "  Synset('elasmobranch.n.01'),\n",
       "  Synset('shark.n.01'),\n",
       "  Synset('hammerhead.n.03')]]"
      ]
     },
     "execution_count": 36,
     "metadata": {},
     "output_type": "execute_result"
    }
   ],
   "source": [
    "wordnet.synset_from_pos_and_offset('n', 1494475).hypernym_paths()"
   ]
  },
  {
   "cell_type": "code",
   "execution_count": 39,
   "metadata": {},
   "outputs": [
    {
     "data": {
      "text/plain": [
       "['n10565667',\n",
       " 'n11879895',\n",
       " 'n11939491',\n",
       " 'n12057211',\n",
       " 'n12144580',\n",
       " 'n12267677',\n",
       " 'n12620546',\n",
       " 'n12768682',\n",
       " 'n12985857',\n",
       " 'n12998815',\n",
       " 'n13037406',\n",
       " 'n13040303',\n",
       " 'n13044778',\n",
       " 'n13052670',\n",
       " 'n13054560',\n",
       " 'n13133613',\n",
       " 'n15075141']"
      ]
     },
     "execution_count": 39,
     "metadata": {},
     "output_type": "execute_result"
    }
   ],
   "source": [
    "[i for i in lst_names if not \"n0\" in i ]"
   ]
  },
  {
   "cell_type": "code",
   "execution_count": 43,
   "metadata": {},
   "outputs": [],
   "source": [
    "hierarchy=[]\n",
    "for name in lst_names:\n",
    "    h=[]\n",
    "    number=int(name.split(\"n\")[1])\n",
    "    syn = wordnet.synset_from_pos_and_offset('n', number)\n",
    "    for hyp in syn.hypernym_paths():\n",
    "        hh=[]\n",
    "        for path in hyp:\n",
    "            hh.append(path.lemma_names()[0])\n",
    "        h.append(hh)\n",
    "    hierarchy.append(h)"
   ]
  },
  {
   "cell_type": "code",
   "execution_count": 51,
   "metadata": {},
   "outputs": [
    {
     "name": "stdout",
     "output_type": "stream",
     "text": [
      "Counter({1: 626, 2: 269, 3: 16, 4: 5, 5: 3})\n"
     ]
    }
   ],
   "source": [
    "c=collections.Counter([len(i) for i in hierarchy])\n",
    "print(c)"
   ]
  },
  {
   "cell_type": "code",
   "execution_count": 52,
   "metadata": {},
   "outputs": [
    {
     "name": "stdout",
     "output_type": "stream",
     "text": [
      "Counter({10: 238, 11: 185, 12: 183, 9: 135, 13: 116, 14: 86, 15: 77, 17: 64, 8: 58, 16: 49, 18: 37, 7: 13, 19: 4, 5: 2})\n"
     ]
    }
   ],
   "source": [
    "c=collections.Counter([len(v) for i in hierarchy for v in i])\n",
    "print(c)"
   ]
  },
  {
   "cell_type": "code",
   "execution_count": 54,
   "metadata": {},
   "outputs": [
    {
     "data": {
      "text/plain": [
       "[['entity',\n",
       "  'physical_entity',\n",
       "  'object',\n",
       "  'whole',\n",
       "  'artifact',\n",
       "  'instrumentality',\n",
       "  'container',\n",
       "  'wheeled_vehicle',\n",
       "  'self-propelled_vehicle',\n",
       "  'armored_vehicle',\n",
       "  'tank'],\n",
       " ['entity',\n",
       "  'physical_entity',\n",
       "  'object',\n",
       "  'whole',\n",
       "  'artifact',\n",
       "  'instrumentality',\n",
       "  'conveyance',\n",
       "  'vehicle',\n",
       "  'wheeled_vehicle',\n",
       "  'self-propelled_vehicle',\n",
       "  'armored_vehicle',\n",
       "  'tank'],\n",
       " ['entity',\n",
       "  'physical_entity',\n",
       "  'object',\n",
       "  'whole',\n",
       "  'artifact',\n",
       "  'instrumentality',\n",
       "  'conveyance',\n",
       "  'vehicle',\n",
       "  'military_vehicle',\n",
       "  'tank'],\n",
       " ['entity',\n",
       "  'physical_entity',\n",
       "  'object',\n",
       "  'whole',\n",
       "  'artifact',\n",
       "  'instrumentality',\n",
       "  'container',\n",
       "  'wheeled_vehicle',\n",
       "  'self-propelled_vehicle',\n",
       "  'tracked_vehicle',\n",
       "  'tank'],\n",
       " ['entity',\n",
       "  'physical_entity',\n",
       "  'object',\n",
       "  'whole',\n",
       "  'artifact',\n",
       "  'instrumentality',\n",
       "  'conveyance',\n",
       "  'vehicle',\n",
       "  'wheeled_vehicle',\n",
       "  'self-propelled_vehicle',\n",
       "  'tracked_vehicle',\n",
       "  'tank']]"
      ]
     },
     "execution_count": 54,
     "metadata": {},
     "output_type": "execute_result"
    }
   ],
   "source": [
    "[i for i in hierarchy if len(i)==5][0]"
   ]
  },
  {
   "cell_type": "code",
   "execution_count": 56,
   "metadata": {},
   "outputs": [
    {
     "data": {
      "text/plain": [
       "[['entity', 'abstraction', 'communication', 'sign', 'street_sign'],\n",
       " ['entity', 'physical_entity', 'object', 'geological_formation', 'cliff']]"
      ]
     },
     "execution_count": 56,
     "metadata": {},
     "output_type": "execute_result"
    }
   ],
   "source": [
    "[v for i in hierarchy for v in i if len(v)==5]\n"
   ]
  },
  {
   "cell_type": "markdown",
   "metadata": {},
   "source": [
    "最も数が多いtreeに限定する"
   ]
  },
  {
   "cell_type": "code",
   "execution_count": 68,
   "metadata": {},
   "outputs": [],
   "source": [
    "hierarchy=[]\n",
    "for name in lst_names:\n",
    "    h=[]\n",
    "    number=int(name.split(\"n\")[1])\n",
    "    syn = wordnet.synset_from_pos_and_offset('n', number)\n",
    "    paths=syn.hypernym_paths()\n",
    "    if len(paths)==0:\n",
    "        hyp=paths[0]\n",
    "    else:\n",
    "        temp=[len(i) for i in paths]\n",
    "        hyp=paths[temp.index(max(temp))]\n",
    "    for path in hyp:\n",
    "        h.append(path.lemma_names()[0])\n",
    "    hierarchy.append(h)"
   ]
  },
  {
   "cell_type": "code",
   "execution_count": 71,
   "metadata": {},
   "outputs": [
    {
     "name": "stdout",
     "output_type": "stream",
     "text": [
      "Collecting anytree\n",
      "  Downloading anytree-2.12.1-py3-none-any.whl.metadata (8.1 kB)\n",
      "Requirement already satisfied: six in /opt/conda/lib/python3.10/site-packages (from anytree) (1.16.0)\n",
      "Downloading anytree-2.12.1-py3-none-any.whl (44 kB)\n",
      "\u001b[2K   \u001b[90m━━━━━━━━━━━━━━━━━━━━━━━━━━━━━━━━━━━━━━━━\u001b[0m \u001b[32m44.9/44.9 kB\u001b[0m \u001b[31m8.4 MB/s\u001b[0m eta \u001b[36m0:00:00\u001b[0m\n",
      "\u001b[?25hInstalling collected packages: anytree\n",
      "Successfully installed anytree-2.12.1\n",
      "\u001b[33mWARNING: Running pip as the 'root' user can result in broken permissions and conflicting behaviour with the system package manager. It is recommended to use a virtual environment instead: https://pip.pypa.io/warnings/venv\u001b[0m\u001b[33m\n",
      "\u001b[0m"
     ]
    }
   ],
   "source": [
    "!pip install anytree"
   ]
  },
  {
   "cell_type": "code",
   "execution_count": 78,
   "metadata": {},
   "outputs": [],
   "source": [
    "from anytree import Node, AnyNode, RenderTree"
   ]
  },
  {
   "cell_type": "code",
   "execution_count": 87,
   "metadata": {},
   "outputs": [],
   "source": [
    "root = Node(\"entity\")\n",
    "dict_nodes = {}\n",
    "dict_nodes[\"entity\"] = root\n",
    "for tree in hierarchy:\n",
    "    for name in tree:\n",
    "        if name not in dict_nodes:\n",
    "            parent = dict_nodes[tree[tree.index(name)-1]]\n",
    "            dict_nodes[name] = Node(name, parent=parent)"
   ]
  },
  {
   "cell_type": "code",
   "execution_count": 89,
   "metadata": {},
   "outputs": [
    {
     "name": "stdout",
     "output_type": "stream",
     "text": [
      "entity\n",
      "├── physical_entity\n",
      "│   ├── object\n",
      "│   │   ├── whole\n",
      "│   │   │   ├── living_thing\n",
      "│   │   │   │   └── organism\n",
      "│   │   │   │       ├── animal\n",
      "│   │   │   │       │   ├── chordate\n",
      "│   │   │   │       │   │   └── vertebrate\n",
      "│   │   │   │       │   │       ├── aquatic_vertebrate\n",
      "│   │   │   │       │   │       │   └── fish\n",
      "│   │   │   │       │   │       │       ├── bony_fish\n",
      "│   │   │   │       │   │       │       │   └── teleost_fish\n",
      "│   │   │   │       │   │       │       │       ├── soft-finned_fish\n",
      "│   │   │   │       │   │       │       │       │   ├── cypriniform_fish\n",
      "│   │   │   │       │   │       │       │       │   │   └── cyprinid\n",
      "│   │   │   │       │   │       │       │       │   │       ├── tench\n",
      "│   │   │   │       │   │       │       │       │   │       └── goldfish\n",
      "│   │   │   │       │   │       │       │       │   ├── eel\n",
      "│   │   │   │       │   │       │       │       │   └── salmonid\n",
      "│   │   │   │       │   │       │       │       │       └── salmon\n",
      "│   │   │   │       │   │       │       │       │           └── coho\n",
      "│   │   │   │       │   │       │       │       ├── spiny-finned_fish\n",
      "│   │   │   │       │   │       │       │       │   ├── percoid_fish\n",
      "│   │   │   │       │   │       │       │       │   │   ├── butterfly_fish\n",
      "│   │   │   │       │   │       │       │       │   │   │   └── rock_beauty\n",
      "│   │   │   │       │   │       │       │       │   │   └── damselfish\n",
      "│   │   │   │       │   │       │       │       │   │       └── anemone_fish\n",
      "│   │   │   │       │   │       │       │       │   ├── scorpaenoid\n",
      "│   │   │   │       │   │       │       │       │   │   └── scorpaenid\n",
      "│   │   │   │       │   │       │       │       │   │       └── lionfish\n"
     ]
    }
   ],
   "source": [
    "for i, (pre, fill, node) in enumerate(RenderTree(dict_nodes[\"entity\"])):\n",
    "    print(\"%s%s\" % (pre, node.name))\n",
    "    if i==30:\n",
    "        break"
   ]
  },
  {
   "cell_type": "code",
   "execution_count": 91,
   "metadata": {},
   "outputs": [
    {
     "name": "stdout",
     "output_type": "stream",
     "text": [
      "animal\n",
      "├── chordate\n",
      "│   └── vertebrate\n",
      "│       ├── aquatic_vertebrate\n",
      "│       │   └── fish\n",
      "│       │       ├── bony_fish\n",
      "│       │       │   └── teleost_fish\n",
      "│       │       │       ├── soft-finned_fish\n",
      "│       │       │       │   ├── cypriniform_fish\n",
      "│       │       │       │   │   └── cyprinid\n",
      "│       │       │       │   │       ├── tench\n",
      "│       │       │       │   │       └── goldfish\n",
      "│       │       │       │   ├── eel\n",
      "│       │       │       │   └── salmonid\n",
      "│       │       │       │       └── salmon\n",
      "│       │       │       │           └── coho\n",
      "│       │       │       ├── spiny-finned_fish\n",
      "│       │       │       │   ├── percoid_fish\n",
      "│       │       │       │   │   ├── butterfly_fish\n",
      "│       │       │       │   │   │   └── rock_beauty\n",
      "│       │       │       │   │   └── damselfish\n",
      "│       │       │       │   │       └── anemone_fish\n",
      "│       │       │       │   ├── scorpaenoid\n",
      "│       │       │       │   │   └── scorpaenid\n",
      "│       │       │       │   │       └── lionfish\n",
      "│       │       │       │   └── plectognath\n",
      "│       │       │       │       └── puffer\n",
      "│       │       │       └── ganoid\n",
      "│       │       │           ├── sturgeon\n",
      "│       │       │           └── gar\n",
      "│       │       ├── cartilaginous_fish\n"
     ]
    }
   ],
   "source": [
    "for i, (pre, fill, node) in enumerate(RenderTree(dict_nodes[\"animal\"])):\n",
    "    print(\"%s%s\" % (pre, node.name))\n",
    "    if i==30:\n",
    "        break"
   ]
  }
 ],
 "metadata": {
  "kernelspec": {
   "display_name": "base",
   "language": "python",
   "name": "python3"
  },
  "language_info": {
   "codemirror_mode": {
    "name": "ipython",
    "version": 3
   },
   "file_extension": ".py",
   "mimetype": "text/x-python",
   "name": "python",
   "nbconvert_exporter": "python",
   "pygments_lexer": "ipython3",
   "version": "3.10.11"
  }
 },
 "nbformat": 4,
 "nbformat_minor": 2
}
