{
 "cells": [
  {
   "cell_type": "markdown",
   "metadata": {},
   "source": [
    "## ImageNetのクラスidとクラス名など調査"
   ]
  },
  {
   "cell_type": "markdown",
   "metadata": {},
   "source": [
    "#### 全部で1000クラスあり量が多いので100クラスずつまとめています。\n",
    "\n",
    "* クラス000～099: 動物（犬、猫、猿など）が大半を占めています。\n",
    "* クラス100～199: 動物の他、車・船・飛行機などの乗り物が含まれています。\n",
    "* クラス200～299: 家具、果物、楽器、工具および鳥類が含まれています。\n",
    "* クラス300～399: 鳥類、魚類、は虫類が含まれています。後半にはトカゲやヘビが出てきますので苦手な方はご注意ください \n",
    "* クラス400～499: は虫類、器具・家電などが含まれています。\n",
    "* クラス500～599: 器具、クモ、カニ、昆虫、調理器具、建築物などが含まれています。\n",
    "* クラス600～699: 建築物、商店、野菜、衣類、楽器などが含まれています。\n",
    "* クラス700～799: 衣類、食器類などが含まれています。\n",
    "* クラス800～899: 衣類、小物などが含まれています。\n",
    "* クラス900～999: 中盤以降はすべて犬です。\n",
    "\n",
    "参考: https://starpentagon.net/analytics/ilsvrc2012_class_image/\n"
   ]
  },
  {
   "cell_type": "markdown",
   "metadata": {},
   "source": [
    "クラス名は絞ってもいいかも、このあたりは要調整"
   ]
  },
  {
   "cell_type": "code",
   "execution_count": 1,
   "metadata": {},
   "outputs": [],
   "source": [
    "import numpy as np\n",
    "import pandas as pd\n",
    "import scipy.io\n"
   ]
  },
  {
   "cell_type": "code",
   "execution_count": 13,
   "metadata": {},
   "outputs": [],
   "source": [
    "mat = scipy.io.loadmat(\"/workspace/ImageNet/ILSVRC2012_devkit_t12/data/meta.mat\")\n",
    "labels=mat[\"synsets\"]\n"
   ]
  },
  {
   "cell_type": "code",
   "execution_count": 34,
   "metadata": {},
   "outputs": [],
   "source": [
    "lst_id=[i[0][0][0][0] for i in labels]\n",
    "lst_folder=[i[0][1][0] for i in labels]\n",
    "lst_name=[i[0][2][0] for i in labels]\n",
    "df = pd.DataFrame({\n",
    "    \"id\":lst_id,\n",
    "    \"folder\":lst_folder,\n",
    "    \"name\":lst_name\n",
    "})"
   ]
  },
  {
   "cell_type": "code",
   "execution_count": 35,
   "metadata": {},
   "outputs": [
    {
     "data": {
      "text/html": [
       "<div>\n",
       "<style scoped>\n",
       "    .dataframe tbody tr th:only-of-type {\n",
       "        vertical-align: middle;\n",
       "    }\n",
       "\n",
       "    .dataframe tbody tr th {\n",
       "        vertical-align: top;\n",
       "    }\n",
       "\n",
       "    .dataframe thead th {\n",
       "        text-align: right;\n",
       "    }\n",
       "</style>\n",
       "<table border=\"1\" class=\"dataframe\">\n",
       "  <thead>\n",
       "    <tr style=\"text-align: right;\">\n",
       "      <th></th>\n",
       "      <th>id</th>\n",
       "      <th>folder</th>\n",
       "      <th>name</th>\n",
       "    </tr>\n",
       "  </thead>\n",
       "  <tbody>\n",
       "    <tr>\n",
       "      <th>0</th>\n",
       "      <td>1</td>\n",
       "      <td>n02119789</td>\n",
       "      <td>kit fox, Vulpes macrotis</td>\n",
       "    </tr>\n",
       "    <tr>\n",
       "      <th>1</th>\n",
       "      <td>2</td>\n",
       "      <td>n02100735</td>\n",
       "      <td>English setter</td>\n",
       "    </tr>\n",
       "    <tr>\n",
       "      <th>2</th>\n",
       "      <td>3</td>\n",
       "      <td>n02110185</td>\n",
       "      <td>Siberian husky</td>\n",
       "    </tr>\n",
       "    <tr>\n",
       "      <th>3</th>\n",
       "      <td>4</td>\n",
       "      <td>n02096294</td>\n",
       "      <td>Australian terrier</td>\n",
       "    </tr>\n",
       "    <tr>\n",
       "      <th>4</th>\n",
       "      <td>5</td>\n",
       "      <td>n02102040</td>\n",
       "      <td>English springer, English springer spaniel</td>\n",
       "    </tr>\n",
       "    <tr>\n",
       "      <th>...</th>\n",
       "      <td>...</td>\n",
       "      <td>...</td>\n",
       "      <td>...</td>\n",
       "    </tr>\n",
       "    <tr>\n",
       "      <th>1855</th>\n",
       "      <td>1856</td>\n",
       "      <td>n06791372</td>\n",
       "      <td>signal, signaling, sign</td>\n",
       "    </tr>\n",
       "    <tr>\n",
       "      <th>1856</th>\n",
       "      <td>1857</td>\n",
       "      <td>n06873571</td>\n",
       "      <td>visual signal</td>\n",
       "    </tr>\n",
       "    <tr>\n",
       "      <th>1857</th>\n",
       "      <td>1858</td>\n",
       "      <td>n06874019</td>\n",
       "      <td>light</td>\n",
       "    </tr>\n",
       "    <tr>\n",
       "      <th>1858</th>\n",
       "      <td>1859</td>\n",
       "      <td>n00031921</td>\n",
       "      <td>relation</td>\n",
       "    </tr>\n",
       "    <tr>\n",
       "      <th>1859</th>\n",
       "      <td>1860</td>\n",
       "      <td>n13809207</td>\n",
       "      <td>part, portion, component part, component, cons...</td>\n",
       "    </tr>\n",
       "  </tbody>\n",
       "</table>\n",
       "<p>1860 rows × 3 columns</p>\n",
       "</div>"
      ],
      "text/plain": [
       "        id     folder                                               name\n",
       "0        1  n02119789                           kit fox, Vulpes macrotis\n",
       "1        2  n02100735                                     English setter\n",
       "2        3  n02110185                                     Siberian husky\n",
       "3        4  n02096294                                 Australian terrier\n",
       "4        5  n02102040         English springer, English springer spaniel\n",
       "...    ...        ...                                                ...\n",
       "1855  1856  n06791372                            signal, signaling, sign\n",
       "1856  1857  n06873571                                      visual signal\n",
       "1857  1858  n06874019                                              light\n",
       "1858  1859  n00031921                                           relation\n",
       "1859  1860  n13809207  part, portion, component part, component, cons...\n",
       "\n",
       "[1860 rows x 3 columns]"
      ]
     },
     "execution_count": 35,
     "metadata": {},
     "output_type": "execute_result"
    }
   ],
   "source": [
    "df"
   ]
  },
  {
   "cell_type": "markdown",
   "metadata": {},
   "source": [
    "* 認識しやすいラベルはこっちかも: https://gist.github.com/yrevar/942d3a0ac09ec9e5eb3a"
   ]
  },
  {
   "cell_type": "markdown",
   "metadata": {},
   "source": [
    "### Preprocessing"
   ]
  },
  {
   "cell_type": "code",
   "execution_count": 52,
   "metadata": {},
   "outputs": [],
   "source": [
    "root=\"/workspace/ImageNet/ImageNet-S/ImageNetS919\""
   ]
  },
  {
   "cell_type": "code",
   "execution_count": 53,
   "metadata": {},
   "outputs": [],
   "source": [
    "import glob\n",
    "\n",
    "import numpy as np\n",
    "import pandas as pd\n",
    "import scipy.io\n"
   ]
  },
  {
   "cell_type": "code",
   "execution_count": 55,
   "metadata": {},
   "outputs": [],
   "source": [
    "mat = scipy.io.loadmat(\"/workspace/ImageNet/ILSVRC2012_devkit_t12/data/meta.mat\")\n",
    "labels=mat[\"synsets\"]\n",
    "lst_id=[i[0][0][0][0] for i in labels]\n",
    "lst_folder=[i[0][1][0] for i in labels]\n",
    "lst_name=[i[0][2][0] for i in labels]\n",
    "df = pd.DataFrame({\n",
    "    \"folder\":lst_folder,\n",
    "    \"name\":lst_name\n",
    "})\n",
    "\n",
    "with open(f'{root}/ImageNetS_categories_im919_sort.txt') as f:\n",
    "    msg = f.read().splitlines()"
   ]
  },
  {
   "cell_type": "code",
   "execution_count": 56,
   "metadata": {},
   "outputs": [],
   "source": [
    "lst_folder_train=glob.glob(f\"{root}/train-semi-segmentation/n*\")\n",
    "lst_folder_val=glob.glob(f\"{root}/validation-segmentation/n*\")"
   ]
  },
  {
   "cell_type": "code",
   "execution_count": 57,
   "metadata": {},
   "outputs": [
    {
     "data": {
      "text/plain": [
       "True"
      ]
     },
     "execution_count": 57,
     "metadata": {},
     "output_type": "execute_result"
    }
   ],
   "source": [
    "[i.split(\"/\")[-1] for i in lst_folder_train] == [i.split(\"/\")[-1] for i in lst_folder_val]"
   ]
  },
  {
   "cell_type": "code",
   "execution_count": 63,
   "metadata": {},
   "outputs": [],
   "source": [
    "df.index=df[\"folder\"]\n",
    "df=df.loc[msg,:]\n",
    "df[\"id\"]=list(range(1,df.shape[0]+1))"
   ]
  },
  {
   "cell_type": "code",
   "execution_count": 66,
   "metadata": {},
   "outputs": [
    {
     "data": {
      "text/html": [
       "<div>\n",
       "<style scoped>\n",
       "    .dataframe tbody tr th:only-of-type {\n",
       "        vertical-align: middle;\n",
       "    }\n",
       "\n",
       "    .dataframe tbody tr th {\n",
       "        vertical-align: top;\n",
       "    }\n",
       "\n",
       "    .dataframe thead th {\n",
       "        text-align: right;\n",
       "    }\n",
       "</style>\n",
       "<table border=\"1\" class=\"dataframe\">\n",
       "  <thead>\n",
       "    <tr style=\"text-align: right;\">\n",
       "      <th></th>\n",
       "      <th>id</th>\n",
       "      <th>folder</th>\n",
       "      <th>name</th>\n",
       "    </tr>\n",
       "    <tr>\n",
       "      <th>folder</th>\n",
       "      <th></th>\n",
       "      <th></th>\n",
       "      <th></th>\n",
       "    </tr>\n",
       "  </thead>\n",
       "  <tbody>\n",
       "    <tr>\n",
       "      <th>n01440764</th>\n",
       "      <td>1</td>\n",
       "      <td>n01440764</td>\n",
       "      <td>tench, Tinca tinca</td>\n",
       "    </tr>\n",
       "    <tr>\n",
       "      <th>n01443537</th>\n",
       "      <td>2</td>\n",
       "      <td>n01443537</td>\n",
       "      <td>goldfish, Carassius auratus</td>\n",
       "    </tr>\n",
       "    <tr>\n",
       "      <th>n01484850</th>\n",
       "      <td>3</td>\n",
       "      <td>n01484850</td>\n",
       "      <td>great white shark, white shark, man-eater, man...</td>\n",
       "    </tr>\n",
       "    <tr>\n",
       "      <th>n01491361</th>\n",
       "      <td>4</td>\n",
       "      <td>n01491361</td>\n",
       "      <td>tiger shark, Galeocerdo cuvieri</td>\n",
       "    </tr>\n",
       "    <tr>\n",
       "      <th>n01494475</th>\n",
       "      <td>5</td>\n",
       "      <td>n01494475</td>\n",
       "      <td>hammerhead, hammerhead shark</td>\n",
       "    </tr>\n",
       "    <tr>\n",
       "      <th>...</th>\n",
       "      <td>...</td>\n",
       "      <td>...</td>\n",
       "      <td>...</td>\n",
       "    </tr>\n",
       "    <tr>\n",
       "      <th>n13044778</th>\n",
       "      <td>915</td>\n",
       "      <td>n13044778</td>\n",
       "      <td>earthstar</td>\n",
       "    </tr>\n",
       "    <tr>\n",
       "      <th>n13052670</th>\n",
       "      <td>916</td>\n",
       "      <td>n13052670</td>\n",
       "      <td>hen-of-the-woods, hen of the woods, Polyporus ...</td>\n",
       "    </tr>\n",
       "    <tr>\n",
       "      <th>n13054560</th>\n",
       "      <td>917</td>\n",
       "      <td>n13054560</td>\n",
       "      <td>bolete</td>\n",
       "    </tr>\n",
       "    <tr>\n",
       "      <th>n13133613</th>\n",
       "      <td>918</td>\n",
       "      <td>n13133613</td>\n",
       "      <td>ear, spike, capitulum</td>\n",
       "    </tr>\n",
       "    <tr>\n",
       "      <th>n15075141</th>\n",
       "      <td>919</td>\n",
       "      <td>n15075141</td>\n",
       "      <td>toilet tissue, toilet paper, bathroom tissue</td>\n",
       "    </tr>\n",
       "  </tbody>\n",
       "</table>\n",
       "<p>919 rows × 3 columns</p>\n",
       "</div>"
      ],
      "text/plain": [
       "            id     folder                                               name\n",
       "folder                                                                      \n",
       "n01440764    1  n01440764                                 tench, Tinca tinca\n",
       "n01443537    2  n01443537                        goldfish, Carassius auratus\n",
       "n01484850    3  n01484850  great white shark, white shark, man-eater, man...\n",
       "n01491361    4  n01491361                    tiger shark, Galeocerdo cuvieri\n",
       "n01494475    5  n01494475                       hammerhead, hammerhead shark\n",
       "...        ...        ...                                                ...\n",
       "n13044778  915  n13044778                                          earthstar\n",
       "n13052670  916  n13052670  hen-of-the-woods, hen of the woods, Polyporus ...\n",
       "n13054560  917  n13054560                                             bolete\n",
       "n13133613  918  n13133613                              ear, spike, capitulum\n",
       "n15075141  919  n15075141       toilet tissue, toilet paper, bathroom tissue\n",
       "\n",
       "[919 rows x 3 columns]"
      ]
     },
     "execution_count": 66,
     "metadata": {},
     "output_type": "execute_result"
    }
   ],
   "source": [
    "df"
   ]
  },
  {
   "cell_type": "code",
   "execution_count": 67,
   "metadata": {},
   "outputs": [
    {
     "data": {
      "text/html": [
       "<div>\n",
       "<style scoped>\n",
       "    .dataframe tbody tr th:only-of-type {\n",
       "        vertical-align: middle;\n",
       "    }\n",
       "\n",
       "    .dataframe tbody tr th {\n",
       "        vertical-align: top;\n",
       "    }\n",
       "\n",
       "    .dataframe thead th {\n",
       "        text-align: right;\n",
       "    }\n",
       "</style>\n",
       "<table border=\"1\" class=\"dataframe\">\n",
       "  <thead>\n",
       "    <tr style=\"text-align: right;\">\n",
       "      <th></th>\n",
       "      <th>id</th>\n",
       "      <th>folder</th>\n",
       "      <th>name</th>\n",
       "    </tr>\n",
       "    <tr>\n",
       "      <th>folder</th>\n",
       "      <th></th>\n",
       "      <th></th>\n",
       "      <th></th>\n",
       "    </tr>\n",
       "  </thead>\n",
       "  <tbody>\n",
       "    <tr>\n",
       "      <th>n01496331</th>\n",
       "      <td>6</td>\n",
       "      <td>n01496331</td>\n",
       "      <td>electric ray, crampfish, numbfish, torpedo</td>\n",
       "    </tr>\n",
       "  </tbody>\n",
       "</table>\n",
       "</div>"
      ],
      "text/plain": [
       "           id     folder                                        name\n",
       "folder                                                              \n",
       "n01496331   6  n01496331  electric ray, crampfish, numbfish, torpedo"
      ]
     },
     "execution_count": 67,
     "metadata": {},
     "output_type": "execute_result"
    }
   ],
   "source": [
    "df[df[\"id\"]==6]"
   ]
  },
  {
   "cell_type": "markdown",
   "metadata": {},
   "source": [
    "* エイらしい。可視化したやつと一致。"
   ]
  },
  {
   "cell_type": "code",
   "execution_count": 68,
   "metadata": {},
   "outputs": [],
   "source": [
    "df.to_csv(\"/workspace/Moon_Pattern_Inference/data/ImageNet-S_label.csv\")"
   ]
  },
  {
   "cell_type": "markdown",
   "metadata": {},
   "source": [
    "### datasize"
   ]
  },
  {
   "cell_type": "code",
   "execution_count": 1,
   "metadata": {},
   "outputs": [],
   "source": [
    "import glob"
   ]
  },
  {
   "cell_type": "code",
   "execution_count": 6,
   "metadata": {},
   "outputs": [
    {
     "data": {
      "text/plain": [
       "9190"
      ]
     },
     "execution_count": 6,
     "metadata": {},
     "output_type": "execute_result"
    }
   ],
   "source": [
    "file_train=glob.glob(\"/workspace/ImageNet/ImageNet-S/ImageNetS919/train-semi-segmentation/*/*.png\")\n",
    "len(file_train)"
   ]
  },
  {
   "cell_type": "code",
   "execution_count": 7,
   "metadata": {},
   "outputs": [
    {
     "data": {
      "text/plain": [
       "12419"
      ]
     },
     "execution_count": 7,
     "metadata": {},
     "output_type": "execute_result"
    }
   ],
   "source": [
    "file_val=glob.glob(\"/workspace/ImageNet/ImageNet-S/ImageNetS919/validation-segmentation/*/*.png\")\n",
    "len(file_val)"
   ]
  }
 ],
 "metadata": {
  "kernelspec": {
   "display_name": "Python 3",
   "language": "python",
   "name": "python3"
  },
  "language_info": {
   "codemirror_mode": {
    "name": "ipython",
    "version": 3
   },
   "file_extension": ".py",
   "mimetype": "text/x-python",
   "name": "python",
   "nbconvert_exporter": "python",
   "pygments_lexer": "ipython3",
   "version": "3.10.11"
  }
 },
 "nbformat": 4,
 "nbformat_minor": 2
}
